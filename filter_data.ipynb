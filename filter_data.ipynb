{
 "cells": [
  {
   "cell_type": "code",
   "execution_count": 2,
   "metadata": {},
   "outputs": [
    {
     "data": {
      "text/html": [
       "<div>\n",
       "<style scoped>\n",
       "    .dataframe tbody tr th:only-of-type {\n",
       "        vertical-align: middle;\n",
       "    }\n",
       "\n",
       "    .dataframe tbody tr th {\n",
       "        vertical-align: top;\n",
       "    }\n",
       "\n",
       "    .dataframe thead th {\n",
       "        text-align: right;\n",
       "    }\n",
       "</style>\n",
       "<table border=\"1\" class=\"dataframe\">\n",
       "  <thead>\n",
       "    <tr style=\"text-align: right;\">\n",
       "      <th></th>\n",
       "      <th>S.No.</th>\n",
       "      <th>Organization</th>\n",
       "      <th>Problem Statement Title</th>\n",
       "      <th>Category</th>\n",
       "      <th>PS Number</th>\n",
       "      <th>Submitted Idea(s) Count</th>\n",
       "      <th>Theme</th>\n",
       "    </tr>\n",
       "  </thead>\n",
       "  <tbody>\n",
       "    <tr>\n",
       "      <th>0</th>\n",
       "      <td>1</td>\n",
       "      <td>Ministry of Chemicals and Fertilizers</td>\n",
       "      <td>International Comparative System to Launch Int...</td>\n",
       "      <td>Software</td>\n",
       "      <td>SIH1278</td>\n",
       "      <td>107</td>\n",
       "      <td>Miscellaneous</td>\n",
       "    </tr>\n",
       "    <tr>\n",
       "      <th>1</th>\n",
       "      <td>2</td>\n",
       "      <td>Ministry of Law and Justice</td>\n",
       "      <td>Development of software for streamlining the l...</td>\n",
       "      <td>Software</td>\n",
       "      <td>SIH1279</td>\n",
       "      <td>208</td>\n",
       "      <td>Miscellaneous</td>\n",
       "    </tr>\n",
       "    <tr>\n",
       "      <th>2</th>\n",
       "      <td>3</td>\n",
       "      <td>Ministry of Law and Justice</td>\n",
       "      <td>Development of e-Portal for facilitating Case ...</td>\n",
       "      <td>Software</td>\n",
       "      <td>SIH1280</td>\n",
       "      <td>379</td>\n",
       "      <td>Miscellaneous</td>\n",
       "    </tr>\n",
       "  </tbody>\n",
       "</table>\n",
       "</div>"
      ],
      "text/plain": [
       "   S.No.                           Organization  \\\n",
       "0      1  Ministry of Chemicals and Fertilizers   \n",
       "1      2            Ministry of Law and Justice   \n",
       "2      3            Ministry of Law and Justice   \n",
       "\n",
       "                             Problem Statement Title  Category PS Number  \\\n",
       "0  International Comparative System to Launch Int...  Software   SIH1278   \n",
       "1  Development of software for streamlining the l...  Software   SIH1279   \n",
       "2  Development of e-Portal for facilitating Case ...  Software   SIH1280   \n",
       "\n",
       "   Submitted Idea(s) Count          Theme  \n",
       "0                      107  Miscellaneous  \n",
       "1                      208  Miscellaneous  \n",
       "2                      379  Miscellaneous  "
      ]
     },
     "execution_count": 2,
     "metadata": {},
     "output_type": "execute_result"
    }
   ],
   "source": [
    "from data import dt\n",
    "import pandas as pd\n",
    "\n",
    "df = pd.DataFrame(dt[1:], columns=dt[0])\n",
    "df.head(3)"
   ]
  },
  {
   "cell_type": "code",
   "execution_count": 3,
   "metadata": {},
   "outputs": [],
   "source": [
    "colnm = ['S.No.', 'Organization', 'Problem Statement Title', 'Category', 'PS Number', 'Submitted Idea(s) Count', 'Domain Bucket']\n",
    "\n",
    "sr = {\n",
    "    0: df[\"S.No.\"],\n",
    "    1: df[\"Organization\"],\n",
    "    2: df[\"Problem Statement Title\"],\n",
    "    3: df[\"Category\"],\n",
    "    4: df[\"PS Number\"],\n",
    "    5: df[\"Submitted Idea(s) Count\"],\n",
    "    6: df[\"Domain Bucket\"]\n",
    "}\n"
   ]
  },
  {
   "cell_type": "code",
   "execution_count": 4,
   "metadata": {},
   "outputs": [
    {
     "data": {
      "text/html": [
       "<div>\n",
       "<style scoped>\n",
       "    .dataframe tbody tr th:only-of-type {\n",
       "        vertical-align: middle;\n",
       "    }\n",
       "\n",
       "    .dataframe tbody tr th {\n",
       "        vertical-align: top;\n",
       "    }\n",
       "\n",
       "    .dataframe thead th {\n",
       "        text-align: right;\n",
       "    }\n",
       "</style>\n",
       "<table border=\"1\" class=\"dataframe\">\n",
       "  <thead>\n",
       "    <tr style=\"text-align: right;\">\n",
       "      <th></th>\n",
       "      <th>S.No.</th>\n",
       "      <th>Category</th>\n",
       "      <th>Submitted Idea(s) Count</th>\n",
       "    </tr>\n",
       "  </thead>\n",
       "  <tbody>\n",
       "    <tr>\n",
       "      <th>0</th>\n",
       "      <td>1</td>\n",
       "      <td>Software</td>\n",
       "      <td>107</td>\n",
       "    </tr>\n",
       "    <tr>\n",
       "      <th>1</th>\n",
       "      <td>2</td>\n",
       "      <td>Software</td>\n",
       "      <td>208</td>\n",
       "    </tr>\n",
       "    <tr>\n",
       "      <th>2</th>\n",
       "      <td>3</td>\n",
       "      <td>Software</td>\n",
       "      <td>379</td>\n",
       "    </tr>\n",
       "  </tbody>\n",
       "</table>\n",
       "</div>"
      ],
      "text/plain": [
       "   S.No.  Category  Submitted Idea(s) Count\n",
       "0      1  Software                      107\n",
       "1      2  Software                      208\n",
       "2      3  Software                      379"
      ]
     },
     "execution_count": 4,
     "metadata": {},
     "output_type": "execute_result"
    }
   ],
   "source": [
    "\n",
    "df_col_filter = df[[\n",
    "    colnm[0], colnm[3], colnm[5]\n",
    "]]\n",
    "df_col_filter.head(3)\n"
   ]
  },
  {
   "cell_type": "code",
   "execution_count": 5,
   "metadata": {},
   "outputs": [
    {
     "data": {
      "text/html": [
       "<div>\n",
       "<style scoped>\n",
       "    .dataframe tbody tr th:only-of-type {\n",
       "        vertical-align: middle;\n",
       "    }\n",
       "\n",
       "    .dataframe tbody tr th {\n",
       "        vertical-align: top;\n",
       "    }\n",
       "\n",
       "    .dataframe thead th {\n",
       "        text-align: right;\n",
       "    }\n",
       "</style>\n",
       "<table border=\"1\" class=\"dataframe\">\n",
       "  <thead>\n",
       "    <tr style=\"text-align: right;\">\n",
       "      <th></th>\n",
       "      <th>S.No.</th>\n",
       "      <th>Category</th>\n",
       "      <th>Submitted Idea(s) Count</th>\n",
       "    </tr>\n",
       "  </thead>\n",
       "  <tbody>\n",
       "    <tr>\n",
       "      <th>10</th>\n",
       "      <td>11</td>\n",
       "      <td>Software</td>\n",
       "      <td>95</td>\n",
       "    </tr>\n",
       "    <tr>\n",
       "      <th>11</th>\n",
       "      <td>12</td>\n",
       "      <td>Software</td>\n",
       "      <td>93</td>\n",
       "    </tr>\n",
       "    <tr>\n",
       "      <th>18</th>\n",
       "      <td>19</td>\n",
       "      <td>Software</td>\n",
       "      <td>66</td>\n",
       "    </tr>\n",
       "  </tbody>\n",
       "</table>\n",
       "</div>"
      ],
      "text/plain": [
       "    S.No.  Category  Submitted Idea(s) Count\n",
       "10     11  Software                       95\n",
       "11     12  Software                       93\n",
       "18     19  Software                       66"
      ]
     },
     "execution_count": 5,
     "metadata": {},
     "output_type": "execute_result"
    }
   ],
   "source": [
    "df_row_filter = df_col_filter[\n",
    "    sr[5] < 100\n",
    "]\n",
    "df_row_filter.head(3)"
   ]
  },
  {
   "cell_type": "code",
   "execution_count": 6,
   "metadata": {},
   "outputs": [
    {
     "name": "stdout",
     "output_type": "stream",
     "text": [
      "['Miscellaneous', 'Smart Education', 'Blockchain & Cybersecurity', 'Clean & Green Technology', 'Disaster Management', 'Agriculture, FoodTech & Rural Development', 'Transportation & Logistics', 'Renewable / Sustainable Energy', 'Robotics and Drones', 'Smart Vehicles', 'Smart Automation', 'MedTech / BioTech / HealthTech', 'Fitness & Sports', 'Travel & Tourism', 'Heritage & Culture', '0']\n"
     ]
    }
   ],
   "source": [
    "print(list(df[colnm[6]].unique()))"
   ]
  },
  {
   "cell_type": "code",
   "execution_count": 6,
   "metadata": {},
   "outputs": [
    {
     "data": {
      "text/html": [
       "<div>\n",
       "<style scoped>\n",
       "    .dataframe tbody tr th:only-of-type {\n",
       "        vertical-align: middle;\n",
       "    }\n",
       "\n",
       "    .dataframe tbody tr th {\n",
       "        vertical-align: top;\n",
       "    }\n",
       "\n",
       "    .dataframe thead th {\n",
       "        text-align: right;\n",
       "    }\n",
       "</style>\n",
       "<table border=\"1\" class=\"dataframe\">\n",
       "  <thead>\n",
       "    <tr style=\"text-align: right;\">\n",
       "      <th></th>\n",
       "      <th>S.No.</th>\n",
       "      <th>Organization</th>\n",
       "      <th>Problem Statement Title</th>\n",
       "      <th>Category</th>\n",
       "      <th>PS Number</th>\n",
       "      <th>Submitted Idea(s) Count</th>\n",
       "      <th>Theme</th>\n",
       "    </tr>\n",
       "  </thead>\n",
       "  <tbody>\n",
       "    <tr>\n",
       "      <th>0</th>\n",
       "      <td>1</td>\n",
       "      <td>Ministry of Chemicals and Fertilizers</td>\n",
       "      <td>InternationalComparativeSystemtoLaunchIntegrat...</td>\n",
       "      <td>Software</td>\n",
       "      <td>SIH1278</td>\n",
       "      <td>107</td>\n",
       "      <td>Miscellaneous</td>\n",
       "    </tr>\n",
       "    <tr>\n",
       "      <th>1</th>\n",
       "      <td>2</td>\n",
       "      <td>Ministry of Law and Justice</td>\n",
       "      <td>Developmentofsoftwareforstreamliningthelisting...</td>\n",
       "      <td>Software</td>\n",
       "      <td>SIH1279</td>\n",
       "      <td>208</td>\n",
       "      <td>Miscellaneous</td>\n",
       "    </tr>\n",
       "    <tr>\n",
       "      <th>2</th>\n",
       "      <td>3</td>\n",
       "      <td>Ministry of Law and Justice</td>\n",
       "      <td>Developmentofe-PortalforfacilitatingCaseManage...</td>\n",
       "      <td>Software</td>\n",
       "      <td>SIH1280</td>\n",
       "      <td>379</td>\n",
       "      <td>Miscellaneous</td>\n",
       "    </tr>\n",
       "  </tbody>\n",
       "</table>\n",
       "</div>"
      ],
      "text/plain": [
       "   S.No.                           Organization  \\\n",
       "0      1  Ministry of Chemicals and Fertilizers   \n",
       "1      2            Ministry of Law and Justice   \n",
       "2      3            Ministry of Law and Justice   \n",
       "\n",
       "                             Problem Statement Title  Category PS Number  \\\n",
       "0  InternationalComparativeSystemtoLaunchIntegrat...  Software   SIH1278   \n",
       "1  Developmentofsoftwareforstreamliningthelisting...  Software   SIH1279   \n",
       "2  Developmentofe-PortalforfacilitatingCaseManage...  Software   SIH1280   \n",
       "\n",
       "   Submitted Idea(s) Count          Theme  \n",
       "0                      107  Miscellaneous  \n",
       "1                      208  Miscellaneous  \n",
       "2                      379  Miscellaneous  "
      ]
     },
     "execution_count": 6,
     "metadata": {},
     "output_type": "execute_result"
    }
   ],
   "source": [
    "df[\"Problem Statement Title\"] = df[\"Problem Statement Title\"].str.replace(\" \", \"\")\n",
    "df.head(3)"
   ]
  },
  {
   "cell_type": "code",
   "execution_count": null,
   "metadata": {},
   "outputs": [],
   "source": []
  }
 ],
 "metadata": {
  "kernelspec": {
   "display_name": ".venv",
   "language": "python",
   "name": "python3"
  },
  "language_info": {
   "codemirror_mode": {
    "name": "ipython",
    "version": 3
   },
   "file_extension": ".py",
   "mimetype": "text/x-python",
   "name": "python",
   "nbconvert_exporter": "python",
   "pygments_lexer": "ipython3",
   "version": "3.12.2"
  }
 },
 "nbformat": 4,
 "nbformat_minor": 2
}
