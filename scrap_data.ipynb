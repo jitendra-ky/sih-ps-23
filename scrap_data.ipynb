{
 "cells": [
  {
   "cell_type": "code",
   "execution_count": null,
   "metadata": {},
   "outputs": [],
   "source": [
    "'''\n",
    "here write a python function\n",
    "that take a website url as input and \n",
    "find a tables in the website html something lik\n",
    "<table id=\"dataTablePS\">\n",
    "    <thead>\n",
    "        <tr>\n",
    "\t\t\t<th>S.No.</th>\n",
    "\t\t\t<th>Organization</th>\n",
    "            <th>Problem Statement Title</th>\n",
    "            <th>Category</th>\n",
    "            <th>PS Number</th>\n",
    "\t\t\t<th>Submitted Idea(s) Count</th>\n",
    "            <th>Domain Bucket</th>\n",
    "        </tr>\n",
    "    </thead>\n",
    "    <tbody>\n",
    "        <tr> </tr> # mach such rows that hold data\n",
    "    </tbody>\n",
    "\n",
    "</table>\n",
    "\n",
    "it read this table and convert it into a list of list'''\n",
    "\n",
    "'''\n",
    "example of a row is here\n",
    "\n",
    "'''\n",
    "\n",
    "\n",
    "from bs4 import BeautifulSoup\n",
    "import requests\n",
    "def get_table(url):\n",
    "    response = requests.get(url)\n",
    "    soup = BeautifulSoup(response.text, 'html.parser')\n",
    "    table = soup.select_one(r\"#dataTablePS\")\n",
    "    if table:\n",
    "        data = []\n",
    "        thead = table.select_one(r'thead>tr')\n",
    "        data.append([col.get_text() for col in thead.select('th')])\n",
    "        rows = table.select(r'tbody>tr')\n",
    "        i = 0\n",
    "        for row in rows:\n",
    "            # if i == 1:\n",
    "            #     break\n",
    "            cols = row.select('tbody>tr>td')\n",
    "            data.append([col.get_text() for col in cols])\n",
    "            i += 1\n",
    "        return data\n",
    "    else:\n",
    "        return None\n"
   ]
  },
  {
   "cell_type": "code",
   "execution_count": null,
   "metadata": {},
   "outputs": [],
   "source": [
    "dt = get_table(\"https://web.archive.org/web/20240417024821/https://www.sih.gov.in/sih2023PS\")"
   ]
  },
  {
   "cell_type": "code",
   "execution_count": null,
   "metadata": {},
   "outputs": [],
   "source": [
    "for i in dt:\n",
    "    print(i, ',')"
   ]
  },
  {
   "cell_type": "code",
   "execution_count": null,
   "metadata": {},
   "outputs": [],
   "source": [
    "'''\n",
    "ok so now I will convert my raw data of list of list of string in panda datafrme\n",
    "here is the structure of my data \n",
    "[\n",
    "['S.No.',   'Organization', 'Problem Statement Title',  'Category', 'PS Number',    'Submitted Idea(s) Count', 'Domain Bucket'] \n",
    "['1',       'Ministry of',  'fun-tech', 'Software',     'MEITY1',   '0',            ,'23',                      'Software']\n",
    "# and many more such rows\n",
    "]\n",
    "'''\n",
    "import pandas as pd\n",
    "df = pd.DataFrame(dt[1:], columns=dt[0])\n",
    "print(df)"
   ]
  }
 ],
 "metadata": {
  "kernelspec": {
   "display_name": "Python 3",
   "language": "python",
   "name": "python3"
  },
  "language_info": {
   "codemirror_mode": {
    "name": "ipython",
    "version": 3
   },
   "file_extension": ".py",
   "mimetype": "text/x-python",
   "name": "python",
   "nbconvert_exporter": "python",
   "pygments_lexer": "ipython3",
   "version": "3.12.2"
  }
 },
 "nbformat": 4,
 "nbformat_minor": 2
}
